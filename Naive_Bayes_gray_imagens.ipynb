{
 "cells": [
  {
   "attachments": {},
   "cell_type": "markdown",
   "metadata": {
    "id": "QGpr0CmBD8vv"
   },
   "source": [
    "https://medium.com/turing-talks/modelos-de-predi%C3%A7%C3%A3o-otimiza%C3%A7%C3%A3o-de-hiperpar%C3%A2metros-em-python-3436fc55016e"
   ]
  },
  {
   "attachments": {},
   "cell_type": "markdown",
   "metadata": {
    "id": "HyNfIZVEw0oq"
   },
   "source": [
    "Bibliotecas"
   ]
  },
  {
   "cell_type": "code",
   "execution_count": 2,
   "metadata": {
    "id": "9N2qxf0U8xDT"
   },
   "outputs": [],
   "source": [
    "import pandas as pd\n",
    "import numpy as np\n",
    "import matplotlib.pyplot as plt\n",
    "from skopt.space import Integer\n",
    "import seaborn as sns\n",
    "from imblearn.over_sampling import SMOTE\n",
    "from collections import Counter\n",
    "import plotly.express as px\n",
    "from sklearn.model_selection import cross_val_score, KFold\n",
    "from sklearn.naive_bayes import GaussianNB\n",
    "from sklearn.naive_bayes import ComplementNB\n",
    "from sklearn.model_selection import train_test_split\n",
    "from sklearn.preprocessing import StandardScaler\n",
    "from sklearn.metrics import ConfusionMatrixDisplay, confusion_matrix\n",
    "from sklearn.metrics import classification_report\n",
    "#import shap\n",
    "from sklearn.feature_selection import RFECV\n",
    "from sklearn.feature_selection import RFE\n",
    "from sklearn.svm import SVC\n",
    "from sklearn.pipeline import Pipeline\n",
    "from sklearn.feature_selection import SequentialFeatureSelector"
   ]
  },
  {
   "cell_type": "code",
   "execution_count": 3,
   "metadata": {
    "id": "ZP1hYj3F8zTO"
   },
   "outputs": [],
   "source": [
    "df = pd.read_csv(r'C:\\Users\\marco\\OneDrive - usp.br\\Área de Trabalho\\Mestrado\\Resultados/gray_treino_imagens.csv', engine='python',sep=';')"
   ]
  },
  {
   "cell_type": "code",
   "execution_count": 4,
   "metadata": {
    "id": "GmJiZAUKG0fj"
   },
   "outputs": [],
   "source": [
    "X = df.drop('Grade', axis = 1)\n",
    "y = df['Grade']"
   ]
  },
  {
   "cell_type": "code",
   "execution_count": 5,
   "metadata": {
    "colab": {
     "base_uri": "https://localhost:8080/",
     "height": 505
    },
    "id": "9KH5R1atPJZb",
    "outputId": "9b7c678a-6a08-4c7e-8da5-63f8fc55a9e4"
   },
   "outputs": [
    {
     "data": {
      "text/html": [
       "<div>\n",
       "<style scoped>\n",
       "    .dataframe tbody tr th:only-of-type {\n",
       "        vertical-align: middle;\n",
       "    }\n",
       "\n",
       "    .dataframe tbody tr th {\n",
       "        vertical-align: top;\n",
       "    }\n",
       "\n",
       "    .dataframe thead th {\n",
       "        text-align: right;\n",
       "    }\n",
       "</style>\n",
       "<table border=\"1\" class=\"dataframe\">\n",
       "  <thead>\n",
       "    <tr style=\"text-align: right;\">\n",
       "      <th></th>\n",
       "      <th>original_firstorder_10Percentile</th>\n",
       "      <th>original_firstorder_90Percentile</th>\n",
       "      <th>original_firstorder_Energy</th>\n",
       "      <th>original_firstorder_Entropy</th>\n",
       "      <th>original_firstorder_InterquartileRange</th>\n",
       "      <th>original_firstorder_Kurtosis</th>\n",
       "      <th>original_firstorder_Maximum</th>\n",
       "      <th>original_firstorder_MeanAbsoluteDeviation</th>\n",
       "      <th>original_firstorder_Mean</th>\n",
       "      <th>original_firstorder_Median</th>\n",
       "      <th>...</th>\n",
       "      <th>wavelet-LLL_glszm_SmallAreaHighGrayLevelEmphasis</th>\n",
       "      <th>wavelet-LLL_glszm_SmallAreaLowGrayLevelEmphasis</th>\n",
       "      <th>wavelet-LLL_glszm_ZoneEntropy</th>\n",
       "      <th>wavelet-LLL_glszm_ZonePercentage</th>\n",
       "      <th>wavelet-LLL_glszm_ZoneVariance</th>\n",
       "      <th>wavelet-LLL_ngtdm_Busyness</th>\n",
       "      <th>wavelet-LLL_ngtdm_Coarseness</th>\n",
       "      <th>wavelet-LLL_ngtdm_Complexity</th>\n",
       "      <th>wavelet-LLL_ngtdm_Contrast</th>\n",
       "      <th>wavelet-LLL_ngtdm_Strength</th>\n",
       "    </tr>\n",
       "  </thead>\n",
       "  <tbody>\n",
       "    <tr>\n",
       "      <th>0</th>\n",
       "      <td>75.0</td>\n",
       "      <td>88.0</td>\n",
       "      <td>45892968.0</td>\n",
       "      <td>0.43</td>\n",
       "      <td>7.0</td>\n",
       "      <td>2.68</td>\n",
       "      <td>95.0</td>\n",
       "      <td>4.03</td>\n",
       "      <td>82.48</td>\n",
       "      <td>83.0</td>\n",
       "      <td>...</td>\n",
       "      <td>1.74</td>\n",
       "      <td>0.05</td>\n",
       "      <td>5.00</td>\n",
       "      <td>0.01</td>\n",
       "      <td>391398.29</td>\n",
       "      <td>21.37</td>\n",
       "      <td>0.00</td>\n",
       "      <td>0.61</td>\n",
       "      <td>0.01</td>\n",
       "      <td>0.02</td>\n",
       "    </tr>\n",
       "    <tr>\n",
       "      <th>1</th>\n",
       "      <td>31.0</td>\n",
       "      <td>63.0</td>\n",
       "      <td>18542655.0</td>\n",
       "      <td>0.91</td>\n",
       "      <td>25.0</td>\n",
       "      <td>1.66</td>\n",
       "      <td>70.0</td>\n",
       "      <td>10.87</td>\n",
       "      <td>44.35</td>\n",
       "      <td>41.0</td>\n",
       "      <td>...</td>\n",
       "      <td>4.77</td>\n",
       "      <td>0.02</td>\n",
       "      <td>5.12</td>\n",
       "      <td>0.01</td>\n",
       "      <td>299991.37</td>\n",
       "      <td>11.21</td>\n",
       "      <td>0.01</td>\n",
       "      <td>0.95</td>\n",
       "      <td>0.01</td>\n",
       "      <td>0.10</td>\n",
       "    </tr>\n",
       "    <tr>\n",
       "      <th>2</th>\n",
       "      <td>157.0</td>\n",
       "      <td>163.0</td>\n",
       "      <td>10049718.0</td>\n",
       "      <td>0.00</td>\n",
       "      <td>4.0</td>\n",
       "      <td>2.88</td>\n",
       "      <td>167.0</td>\n",
       "      <td>1.99</td>\n",
       "      <td>159.89</td>\n",
       "      <td>160.0</td>\n",
       "      <td>...</td>\n",
       "      <td>0.02</td>\n",
       "      <td>0.02</td>\n",
       "      <td>2.58</td>\n",
       "      <td>0.02</td>\n",
       "      <td>8625.58</td>\n",
       "      <td>18.93</td>\n",
       "      <td>0.03</td>\n",
       "      <td>0.19</td>\n",
       "      <td>0.04</td>\n",
       "      <td>0.03</td>\n",
       "    </tr>\n",
       "    <tr>\n",
       "      <th>3</th>\n",
       "      <td>89.0</td>\n",
       "      <td>135.0</td>\n",
       "      <td>432865481.0</td>\n",
       "      <td>1.56</td>\n",
       "      <td>28.0</td>\n",
       "      <td>2.11</td>\n",
       "      <td>151.0</td>\n",
       "      <td>14.63</td>\n",
       "      <td>114.45</td>\n",
       "      <td>117.0</td>\n",
       "      <td>...</td>\n",
       "      <td>7.91</td>\n",
       "      <td>0.02</td>\n",
       "      <td>6.80</td>\n",
       "      <td>0.01</td>\n",
       "      <td>150754.14</td>\n",
       "      <td>12.84</td>\n",
       "      <td>0.00</td>\n",
       "      <td>5.92</td>\n",
       "      <td>0.01</td>\n",
       "      <td>0.05</td>\n",
       "    </tr>\n",
       "    <tr>\n",
       "      <th>4</th>\n",
       "      <td>126.0</td>\n",
       "      <td>139.0</td>\n",
       "      <td>61577627.0</td>\n",
       "      <td>0.19</td>\n",
       "      <td>8.0</td>\n",
       "      <td>2.34</td>\n",
       "      <td>146.0</td>\n",
       "      <td>4.05</td>\n",
       "      <td>133.07</td>\n",
       "      <td>133.0</td>\n",
       "      <td>...</td>\n",
       "      <td>2.15</td>\n",
       "      <td>0.13</td>\n",
       "      <td>4.26</td>\n",
       "      <td>0.01</td>\n",
       "      <td>163224.61</td>\n",
       "      <td>12.14</td>\n",
       "      <td>0.01</td>\n",
       "      <td>0.59</td>\n",
       "      <td>0.00</td>\n",
       "      <td>0.04</td>\n",
       "    </tr>\n",
       "    <tr>\n",
       "      <th>...</th>\n",
       "      <td>...</td>\n",
       "      <td>...</td>\n",
       "      <td>...</td>\n",
       "      <td>...</td>\n",
       "      <td>...</td>\n",
       "      <td>...</td>\n",
       "      <td>...</td>\n",
       "      <td>...</td>\n",
       "      <td>...</td>\n",
       "      <td>...</td>\n",
       "      <td>...</td>\n",
       "      <td>...</td>\n",
       "      <td>...</td>\n",
       "      <td>...</td>\n",
       "      <td>...</td>\n",
       "      <td>...</td>\n",
       "      <td>...</td>\n",
       "      <td>...</td>\n",
       "      <td>...</td>\n",
       "      <td>...</td>\n",
       "      <td>...</td>\n",
       "    </tr>\n",
       "    <tr>\n",
       "      <th>326</th>\n",
       "      <td>50.0</td>\n",
       "      <td>120.0</td>\n",
       "      <td>423654836.0</td>\n",
       "      <td>2.03</td>\n",
       "      <td>48.0</td>\n",
       "      <td>1.69</td>\n",
       "      <td>151.0</td>\n",
       "      <td>23.26</td>\n",
       "      <td>88.71</td>\n",
       "      <td>91.0</td>\n",
       "      <td>...</td>\n",
       "      <td>14.20</td>\n",
       "      <td>0.01</td>\n",
       "      <td>7.51</td>\n",
       "      <td>0.01</td>\n",
       "      <td>284458.59</td>\n",
       "      <td>7.98</td>\n",
       "      <td>0.00</td>\n",
       "      <td>12.76</td>\n",
       "      <td>0.02</td>\n",
       "      <td>0.09</td>\n",
       "    </tr>\n",
       "    <tr>\n",
       "      <th>327</th>\n",
       "      <td>71.0</td>\n",
       "      <td>143.0</td>\n",
       "      <td>729016262.0</td>\n",
       "      <td>1.79</td>\n",
       "      <td>58.0</td>\n",
       "      <td>1.89</td>\n",
       "      <td>165.0</td>\n",
       "      <td>24.73</td>\n",
       "      <td>114.98</td>\n",
       "      <td>127.0</td>\n",
       "      <td>...</td>\n",
       "      <td>16.72</td>\n",
       "      <td>0.01</td>\n",
       "      <td>7.11</td>\n",
       "      <td>0.01</td>\n",
       "      <td>853009.24</td>\n",
       "      <td>7.55</td>\n",
       "      <td>0.00</td>\n",
       "      <td>9.12</td>\n",
       "      <td>0.02</td>\n",
       "      <td>0.10</td>\n",
       "    </tr>\n",
       "    <tr>\n",
       "      <th>328</th>\n",
       "      <td>73.0</td>\n",
       "      <td>109.0</td>\n",
       "      <td>326965344.0</td>\n",
       "      <td>1.39</td>\n",
       "      <td>20.0</td>\n",
       "      <td>2.38</td>\n",
       "      <td>125.0</td>\n",
       "      <td>11.21</td>\n",
       "      <td>93.48</td>\n",
       "      <td>96.0</td>\n",
       "      <td>...</td>\n",
       "      <td>5.75</td>\n",
       "      <td>0.01</td>\n",
       "      <td>6.57</td>\n",
       "      <td>0.01</td>\n",
       "      <td>530412.79</td>\n",
       "      <td>15.62</td>\n",
       "      <td>0.00</td>\n",
       "      <td>3.71</td>\n",
       "      <td>0.01</td>\n",
       "      <td>0.04</td>\n",
       "    </tr>\n",
       "    <tr>\n",
       "      <th>329</th>\n",
       "      <td>31.0</td>\n",
       "      <td>65.0</td>\n",
       "      <td>127356509.0</td>\n",
       "      <td>1.12</td>\n",
       "      <td>20.0</td>\n",
       "      <td>2.06</td>\n",
       "      <td>87.0</td>\n",
       "      <td>10.72</td>\n",
       "      <td>48.28</td>\n",
       "      <td>48.0</td>\n",
       "      <td>...</td>\n",
       "      <td>4.91</td>\n",
       "      <td>0.03</td>\n",
       "      <td>6.99</td>\n",
       "      <td>0.01</td>\n",
       "      <td>550658.76</td>\n",
       "      <td>51.51</td>\n",
       "      <td>0.00</td>\n",
       "      <td>4.03</td>\n",
       "      <td>0.01</td>\n",
       "      <td>0.02</td>\n",
       "    </tr>\n",
       "    <tr>\n",
       "      <th>330</th>\n",
       "      <td>59.0</td>\n",
       "      <td>78.0</td>\n",
       "      <td>56321395.0</td>\n",
       "      <td>0.72</td>\n",
       "      <td>11.0</td>\n",
       "      <td>2.75</td>\n",
       "      <td>92.0</td>\n",
       "      <td>6.01</td>\n",
       "      <td>67.87</td>\n",
       "      <td>67.0</td>\n",
       "      <td>...</td>\n",
       "      <td>3.15</td>\n",
       "      <td>0.03</td>\n",
       "      <td>5.73</td>\n",
       "      <td>0.01</td>\n",
       "      <td>379636.31</td>\n",
       "      <td>22.69</td>\n",
       "      <td>0.00</td>\n",
       "      <td>1.86</td>\n",
       "      <td>0.01</td>\n",
       "      <td>0.03</td>\n",
       "    </tr>\n",
       "  </tbody>\n",
       "</table>\n",
       "<p>331 rows × 1302 columns</p>\n",
       "</div>"
      ],
      "text/plain": [
       "     original_firstorder_10Percentile  original_firstorder_90Percentile  \\\n",
       "0                                75.0                              88.0   \n",
       "1                                31.0                              63.0   \n",
       "2                               157.0                             163.0   \n",
       "3                                89.0                             135.0   \n",
       "4                               126.0                             139.0   \n",
       "..                                ...                               ...   \n",
       "326                              50.0                             120.0   \n",
       "327                              71.0                             143.0   \n",
       "328                              73.0                             109.0   \n",
       "329                              31.0                              65.0   \n",
       "330                              59.0                              78.0   \n",
       "\n",
       "     original_firstorder_Energy  original_firstorder_Entropy  \\\n",
       "0                    45892968.0                         0.43   \n",
       "1                    18542655.0                         0.91   \n",
       "2                    10049718.0                         0.00   \n",
       "3                   432865481.0                         1.56   \n",
       "4                    61577627.0                         0.19   \n",
       "..                          ...                          ...   \n",
       "326                 423654836.0                         2.03   \n",
       "327                 729016262.0                         1.79   \n",
       "328                 326965344.0                         1.39   \n",
       "329                 127356509.0                         1.12   \n",
       "330                  56321395.0                         0.72   \n",
       "\n",
       "     original_firstorder_InterquartileRange  original_firstorder_Kurtosis  \\\n",
       "0                                       7.0                          2.68   \n",
       "1                                      25.0                          1.66   \n",
       "2                                       4.0                          2.88   \n",
       "3                                      28.0                          2.11   \n",
       "4                                       8.0                          2.34   \n",
       "..                                      ...                           ...   \n",
       "326                                    48.0                          1.69   \n",
       "327                                    58.0                          1.89   \n",
       "328                                    20.0                          2.38   \n",
       "329                                    20.0                          2.06   \n",
       "330                                    11.0                          2.75   \n",
       "\n",
       "     original_firstorder_Maximum  original_firstorder_MeanAbsoluteDeviation  \\\n",
       "0                           95.0                                       4.03   \n",
       "1                           70.0                                      10.87   \n",
       "2                          167.0                                       1.99   \n",
       "3                          151.0                                      14.63   \n",
       "4                          146.0                                       4.05   \n",
       "..                           ...                                        ...   \n",
       "326                        151.0                                      23.26   \n",
       "327                        165.0                                      24.73   \n",
       "328                        125.0                                      11.21   \n",
       "329                         87.0                                      10.72   \n",
       "330                         92.0                                       6.01   \n",
       "\n",
       "     original_firstorder_Mean  original_firstorder_Median  ...  \\\n",
       "0                       82.48                        83.0  ...   \n",
       "1                       44.35                        41.0  ...   \n",
       "2                      159.89                       160.0  ...   \n",
       "3                      114.45                       117.0  ...   \n",
       "4                      133.07                       133.0  ...   \n",
       "..                        ...                         ...  ...   \n",
       "326                     88.71                        91.0  ...   \n",
       "327                    114.98                       127.0  ...   \n",
       "328                     93.48                        96.0  ...   \n",
       "329                     48.28                        48.0  ...   \n",
       "330                     67.87                        67.0  ...   \n",
       "\n",
       "     wavelet-LLL_glszm_SmallAreaHighGrayLevelEmphasis  \\\n",
       "0                                                1.74   \n",
       "1                                                4.77   \n",
       "2                                                0.02   \n",
       "3                                                7.91   \n",
       "4                                                2.15   \n",
       "..                                                ...   \n",
       "326                                             14.20   \n",
       "327                                             16.72   \n",
       "328                                              5.75   \n",
       "329                                              4.91   \n",
       "330                                              3.15   \n",
       "\n",
       "     wavelet-LLL_glszm_SmallAreaLowGrayLevelEmphasis  \\\n",
       "0                                               0.05   \n",
       "1                                               0.02   \n",
       "2                                               0.02   \n",
       "3                                               0.02   \n",
       "4                                               0.13   \n",
       "..                                               ...   \n",
       "326                                             0.01   \n",
       "327                                             0.01   \n",
       "328                                             0.01   \n",
       "329                                             0.03   \n",
       "330                                             0.03   \n",
       "\n",
       "     wavelet-LLL_glszm_ZoneEntropy  wavelet-LLL_glszm_ZonePercentage  \\\n",
       "0                             5.00                              0.01   \n",
       "1                             5.12                              0.01   \n",
       "2                             2.58                              0.02   \n",
       "3                             6.80                              0.01   \n",
       "4                             4.26                              0.01   \n",
       "..                             ...                               ...   \n",
       "326                           7.51                              0.01   \n",
       "327                           7.11                              0.01   \n",
       "328                           6.57                              0.01   \n",
       "329                           6.99                              0.01   \n",
       "330                           5.73                              0.01   \n",
       "\n",
       "     wavelet-LLL_glszm_ZoneVariance  wavelet-LLL_ngtdm_Busyness  \\\n",
       "0                         391398.29                       21.37   \n",
       "1                         299991.37                       11.21   \n",
       "2                           8625.58                       18.93   \n",
       "3                         150754.14                       12.84   \n",
       "4                         163224.61                       12.14   \n",
       "..                              ...                         ...   \n",
       "326                       284458.59                        7.98   \n",
       "327                       853009.24                        7.55   \n",
       "328                       530412.79                       15.62   \n",
       "329                       550658.76                       51.51   \n",
       "330                       379636.31                       22.69   \n",
       "\n",
       "     wavelet-LLL_ngtdm_Coarseness  wavelet-LLL_ngtdm_Complexity  \\\n",
       "0                            0.00                          0.61   \n",
       "1                            0.01                          0.95   \n",
       "2                            0.03                          0.19   \n",
       "3                            0.00                          5.92   \n",
       "4                            0.01                          0.59   \n",
       "..                            ...                           ...   \n",
       "326                          0.00                         12.76   \n",
       "327                          0.00                          9.12   \n",
       "328                          0.00                          3.71   \n",
       "329                          0.00                          4.03   \n",
       "330                          0.00                          1.86   \n",
       "\n",
       "     wavelet-LLL_ngtdm_Contrast  wavelet-LLL_ngtdm_Strength  \n",
       "0                          0.01                        0.02  \n",
       "1                          0.01                        0.10  \n",
       "2                          0.04                        0.03  \n",
       "3                          0.01                        0.05  \n",
       "4                          0.00                        0.04  \n",
       "..                          ...                         ...  \n",
       "326                        0.02                        0.09  \n",
       "327                        0.02                        0.10  \n",
       "328                        0.01                        0.04  \n",
       "329                        0.01                        0.02  \n",
       "330                        0.01                        0.03  \n",
       "\n",
       "[331 rows x 1302 columns]"
      ]
     },
     "execution_count": 5,
     "metadata": {},
     "output_type": "execute_result"
    }
   ],
   "source": [
    "X"
   ]
  },
  {
   "cell_type": "code",
   "execution_count": 6,
   "metadata": {
    "colab": {
     "base_uri": "https://localhost:8080/"
    },
    "id": "I-258tTUPKFd",
    "outputId": "0bacf6a9-44a2-44d9-e237-b6569b7c68a2"
   },
   "outputs": [
    {
     "data": {
      "text/plain": [
       "0      0.0\n",
       "1      1.0\n",
       "2      0.0\n",
       "3      1.0\n",
       "4      0.0\n",
       "      ... \n",
       "326    1.0\n",
       "327    1.0\n",
       "328    1.0\n",
       "329    2.0\n",
       "330    2.0\n",
       "Name: Grade, Length: 331, dtype: float64"
      ]
     },
     "execution_count": 6,
     "metadata": {},
     "output_type": "execute_result"
    }
   ],
   "source": [
    "y"
   ]
  },
  {
   "cell_type": "code",
   "execution_count": 7,
   "metadata": {
    "colab": {
     "base_uri": "https://localhost:8080/"
    },
    "id": "TJBfxujcPx6F",
    "outputId": "a77581b1-af75-4604-d586-5edf8a7b3302"
   },
   "outputs": [
    {
     "data": {
      "text/plain": [
       "(331, 1302)"
      ]
     },
     "execution_count": 7,
     "metadata": {},
     "output_type": "execute_result"
    }
   ],
   "source": [
    "X.shape"
   ]
  },
  {
   "cell_type": "code",
   "execution_count": 8,
   "metadata": {
    "colab": {
     "base_uri": "https://localhost:8080/"
    },
    "id": "0inhwQyyPzXy",
    "outputId": "dfbbb926-bbc1-40e1-ccde-e7f20784f398"
   },
   "outputs": [
    {
     "data": {
      "text/plain": [
       "(331,)"
      ]
     },
     "execution_count": 8,
     "metadata": {},
     "output_type": "execute_result"
    }
   ],
   "source": [
    "y.shape"
   ]
  },
  {
   "cell_type": "code",
   "execution_count": 9,
   "metadata": {
    "id": "2ad3xisD-Qqw"
   },
   "outputs": [],
   "source": [
    "#X_train, X_test, y_train, y_test = train_test_split(X,y,test_size=0.3, random_state = 0)"
   ]
  },
  {
   "cell_type": "code",
   "execution_count": 10,
   "metadata": {
    "id": "7ETjRw4vFhHe"
   },
   "outputs": [],
   "source": [
    "oversample = SMOTE(k_neighbors = 2)\n",
    "X, y = oversample.fit_resample(X, y)"
   ]
  },
  {
   "cell_type": "code",
   "execution_count": 11,
   "metadata": {
    "colab": {
     "base_uri": "https://localhost:8080/",
     "height": 487
    },
    "id": "5qRCCRoFUTCA",
    "outputId": "a9227835-d48d-4bab-ad46-f739ba4b5556"
   },
   "outputs": [
    {
     "name": "stdout",
     "output_type": "stream",
     "text": [
      "Desempenho médio: 75.52 ± 4.55\n"
     ]
    },
    {
     "data": {
      "text/plain": [
       "0.7632275132275133"
      ]
     },
     "execution_count": 11,
     "metadata": {},
     "output_type": "execute_result"
    }
   ],
   "source": [
    "gnb=GaussianNB()\n",
    "fit = gnb.fit(X,y)\n",
    "desempenho_cross_val = cross_val_score(gnb, X, y, scoring = 'accuracy', cv = 5)\n",
    "print('Desempenho médio: {}'.format(round(100*desempenho_cross_val.mean(),2)) + ' ± '+ '{}'.format(round(100*desempenho_cross_val.std(),2)))\n",
    "gnb.score(X,y)"
   ]
  },
  {
   "cell_type": "code",
   "execution_count": 12,
   "metadata": {},
   "outputs": [
    {
     "name": "stdout",
     "output_type": "stream",
     "text": [
      "              precision    recall  f1-score   support\n",
      "\n",
      "         0.0       1.00      1.00      1.00        21\n",
      "         1.0       0.86      0.46      0.60        13\n",
      "         2.0       0.22      0.67      0.33         3\n",
      "         3.0       1.00      1.00      1.00         1\n",
      "\n",
      "    accuracy                           0.79        38\n",
      "   macro avg       0.77      0.78      0.73        38\n",
      "weighted avg       0.89      0.79      0.81        38\n",
      "\n",
      "Desempenho médio: 86.79 ± 7.95\n"
     ]
    },
    {
     "name": "stderr",
     "output_type": "stream",
     "text": [
      "c:\\Users\\marco\\AppData\\Local\\Programs\\Python\\Python39\\lib\\site-packages\\sklearn\\model_selection\\_split.py:737: UserWarning: The least populated class in y has only 1 members, which is less than n_splits=5.\n",
      "  warnings.warn(\n"
     ]
    },
    {
     "data": {
      "image/png": "[encoded data removed]",
      "text/plain": [
       "<Figure size 640x480 with 2 Axes>"
      ]
     },
     "metadata": {},
     "output_type": "display_data"
    }
   ],
   "source": [
    "dft=pd.read_csv(r'C:\\Users\\marco\\OneDrive - usp.br\\Área de Trabalho\\Mestrado\\Resultados/gray_teste_imagens.csv', engine='python',sep=';')\n",
    "Xt = dft.drop('Grade', axis =1)\n",
    "yt = dft['Grade']\n",
    "y_t = fit.predict(Xt)\n",
    "print(classification_report(yt, y_t))\n",
    "ConfusionMatrixDisplay.from_predictions(yt,y_t,values_format='.7g')\n",
    "desempenho_cross_val = cross_val_score(gnb, Xt, yt, scoring = 'accuracy', cv = 5)\n",
    "print('Desempenho médio: {}'.format(round(100*desempenho_cross_val.mean(),2)) + ' ± '+ '{}'.format(round(100*desempenho_cross_val.std(),2)))"
   ]
  },
  {
   "cell_type": "code",
   "execution_count": 13,
   "metadata": {},
   "outputs": [
    {
     "name": "stdout",
     "output_type": "stream",
     "text": [
      "Desempenho médio: 86.79 ± 7.95\n"
     ]
    },
    {
     "name": "stderr",
     "output_type": "stream",
     "text": [
      "c:\\Users\\marco\\AppData\\Local\\Programs\\Python\\Python39\\lib\\site-packages\\sklearn\\model_selection\\_split.py:737: UserWarning: The least populated class in y has only 1 members, which is less than n_splits=5.\n",
      "  warnings.warn(\n"
     ]
    },
    {
     "data": {
      "image/png": "[encoded data removed]",
      "text/plain": [
       "<Figure size 640x480 with 2 Axes>"
      ]
     },
     "metadata": {},
     "output_type": "display_data"
    }
   ],
   "source": [
    "desempenho_cross_val = cross_val_score(gnb, Xt, yt, scoring = 'accuracy', cv = 5)\n",
    "print('Desempenho médio: {}'.format(round(100*desempenho_cross_val.mean(),2)) + ' ± '+ '{}'.format(round(100*desempenho_cross_val.std(),2)))\n",
    "# Confusion matrix\n",
    "cm = confusion_matrix(yt, y_t)\n",
    "    \n",
    "    # Normalize the confusion matrix\n",
    "cm_normalized = cm.astype('float') / cm.sum(axis=1)[:, np.newaxis]\n",
    "\n",
    "    # Display the normalized confusion matrix\n",
    "disp = ConfusionMatrixDisplay(confusion_matrix=cm_normalized, display_labels=[0, 1,2,3])\n",
    "disp.plot()\n",
    "plt.show()"
   ]
  },
  {
   "cell_type": "code",
   "execution_count": 14,
   "metadata": {},
   "outputs": [
    {
     "data": {
      "image/png": "[encoded data removed]",
      "text/plain": [
       "<Figure size 800x600 with 2 Axes>"
      ]
     },
     "metadata": {},
     "output_type": "display_data"
    }
   ],
   "source": [
    "from sklearn.metrics import confusion_matrix, ConfusionMatrixDisplay\n",
    "import matplotlib.pyplot as plt\n",
    "\n",
    "# Calcular a matriz de confusão\n",
    "cm = confusion_matrix(yt, y_t, normalize='true')\n",
    "\n",
    "# Criar um heatmap\n",
    "plt.figure(figsize=(8, 6))\n",
    "plt.imshow(cm, cmap='Blues', interpolation='nearest')\n",
    "plt.title('Matriz de Confusão Normalizada')\n",
    "plt.colorbar()\n",
    "\n",
    "# Adicionar rótulos aos eixos\n",
    "class_labels = ['0','1','2','3']  # Substitua pelos seus rótulos\n",
    "# Configure o tamanho da fonte\n",
    "plt.rc('font', size=20)  # Defina o tamanho da fonte desejado\n",
    "tick_marks = np.arange(len(class_labels))\n",
    "plt.xticks(tick_marks, class_labels, rotation=45)\n",
    "plt.yticks(tick_marks, class_labels)\n",
    "\n",
    "# Adicionar os valores nas células\n",
    "for i in range(len(class_labels)):\n",
    "    for j in range(len(class_labels)):\n",
    "        plt.text(j, i, f\"{cm[i, j]:.2f}\", horizontalalignment=\"center\", color=\"#ECAEAE\")\n",
    "\n",
    "plt.tight_layout()\n",
    "plt.xlabel('Rótulos Preditos')\n",
    "plt.ylabel('Rótulos Verdadeiros')\n",
    "plt.show()"
   ]
  }
 ],
 "metadata": {
  "colab": {
   "collapsed_sections": [],
   "provenance": []
  },
  "kernelspec": {
   "display_name": "Python 3 (ipykernel)",
   "language": "python",
   "name": "python3"
  },
  "language_info": {
   "codemirror_mode": {
    "name": "ipython",
    "version": 3
   },
   "file_extension": ".py",
   "mimetype": "text/x-python",
   "name": "python",
   "nbconvert_exporter": "python",
   "pygments_lexer": "ipython3",
   "version": "3.9.13"
  },
  "vscode": {
   "interpreter": {
    "hash": "369f2c481f4da34e4445cda3fffd2e751bd1c4d706f27375911949ba6bb62e1c"
   }
  }
 },
 "nbformat": 4,
 "nbformat_minor": 1
}
