{
 "cells": [
  {
   "attachments": {},
   "cell_type": "markdown",
   "metadata": {
    "id": "QGpr0CmBD8vv"
   },
   "source": [
    "https://medium.com/turing-talks/modelos-de-predi%C3%A7%C3%A3o-otimiza%C3%A7%C3%A3o-de-hiperpar%C3%A2metros-em-python-3436fc55016e"
   ]
  },
  {
   "attachments": {},
   "cell_type": "markdown",
   "metadata": {
    "id": "HyNfIZVEw0oq"
   },
   "source": [
    "Bibliotecas"
   ]
  },
  {
   "cell_type": "code",
   "execution_count": 1,
   "metadata": {
    "id": "9N2qxf0U8xDT"
   },
   "outputs": [],
   "source": [
    "import pandas as pd\n",
    "import numpy as np\n",
    "import matplotlib.pyplot as plt\n",
    "from skopt.space import Integer\n",
    "import seaborn as sns\n",
    "from imblearn.over_sampling import SMOTE\n",
    "from collections import Counter\n",
    "import plotly.express as px\n",
    "from sklearn.model_selection import cross_val_score, KFold\n",
    "from sklearn.naive_bayes import GaussianNB\n",
    "from sklearn.naive_bayes import ComplementNB\n",
    "from sklearn.model_selection import train_test_split\n",
    "from sklearn.preprocessing import StandardScaler\n",
    "from sklearn.metrics import ConfusionMatrixDisplay, confusion_matrix\n",
    "from sklearn.metrics import classification_report\n",
    "#import shap\n",
    "from sklearn.feature_selection import RFECV\n",
    "from sklearn.feature_selection import RFE\n",
    "from sklearn.svm import SVC\n",
    "from sklearn.pipeline import Pipeline\n",
    "from sklearn.feature_selection import SequentialFeatureSelector"
   ]
  },
  {
   "cell_type": "code",
   "execution_count": 2,
   "metadata": {
    "id": "ZP1hYj3F8zTO"
   },
   "outputs": [],
   "source": [
    "df = pd.read_csv(r'C:\\Users\\marco\\OneDrive - usp.br\\Área de Trabalho\\Mestrado\\Resultados\\B_treino.csv', engine='python',sep=';')"
   ]
  },
  {
   "cell_type": "code",
   "execution_count": 3,
   "metadata": {
    "id": "GmJiZAUKG0fj"
   },
   "outputs": [],
   "source": [
    "X = df.drop('Grade', axis = 1)\n",
    "y = df['Grade']"
   ]
  },
  {
   "cell_type": "code",
   "execution_count": 4,
   "metadata": {
    "colab": {
     "base_uri": "https://localhost:8080/",
     "height": 505
    },
    "id": "9KH5R1atPJZb",
    "outputId": "9b7c678a-6a08-4c7e-8da5-63f8fc55a9e4"
   },
   "outputs": [
    {
     "data": {
      "text/html": [
       "<div>\n",
       "<style scoped>\n",
       "    .dataframe tbody tr th:only-of-type {\n",
       "        vertical-align: middle;\n",
       "    }\n",
       "\n",
       "    .dataframe tbody tr th {\n",
       "        vertical-align: top;\n",
       "    }\n",
       "\n",
       "    .dataframe thead th {\n",
       "        text-align: right;\n",
       "    }\n",
       "</style>\n",
       "<table border=\"1\" class=\"dataframe\">\n",
       "  <thead>\n",
       "    <tr style=\"text-align: right;\">\n",
       "      <th></th>\n",
       "      <th>original_firstorder_10Percentile</th>\n",
       "      <th>original_firstorder_90Percentile</th>\n",
       "      <th>original_firstorder_Energy</th>\n",
       "      <th>original_firstorder_Entropy</th>\n",
       "      <th>original_firstorder_InterquartileRange</th>\n",
       "      <th>original_firstorder_Kurtosis</th>\n",
       "      <th>original_firstorder_Maximum</th>\n",
       "      <th>original_firstorder_MeanAbsoluteDeviation</th>\n",
       "      <th>original_firstorder_Mean</th>\n",
       "      <th>original_firstorder_Median</th>\n",
       "      <th>...</th>\n",
       "      <th>original_glszm_SmallAreaHighGrayLevelEmphasis</th>\n",
       "      <th>original_glszm_SmallAreaLowGrayLevelEmphasis</th>\n",
       "      <th>original_glszm_ZoneEntropy</th>\n",
       "      <th>original_glszm_ZonePercentage</th>\n",
       "      <th>original_glszm_ZoneVariance</th>\n",
       "      <th>original_ngtdm_Busyness</th>\n",
       "      <th>original_ngtdm_Coarseness</th>\n",
       "      <th>original_ngtdm_Complexity</th>\n",
       "      <th>original_ngtdm_Contrast</th>\n",
       "      <th>original_ngtdm_Strength</th>\n",
       "    </tr>\n",
       "  </thead>\n",
       "  <tbody>\n",
       "    <tr>\n",
       "      <th>0</th>\n",
       "      <td>69.0</td>\n",
       "      <td>82.0</td>\n",
       "      <td>39055374.0</td>\n",
       "      <td>0.93</td>\n",
       "      <td>7.0</td>\n",
       "      <td>2.63</td>\n",
       "      <td>89.0</td>\n",
       "      <td>4.06</td>\n",
       "      <td>76.07</td>\n",
       "      <td>77.0</td>\n",
       "      <td>...</td>\n",
       "      <td>0.81</td>\n",
       "      <td>0.25</td>\n",
       "      <td>3.70</td>\n",
       "      <td>0.01</td>\n",
       "      <td>645255.06</td>\n",
       "      <td>100.66</td>\n",
       "      <td>0.01</td>\n",
       "      <td>0.06</td>\n",
       "      <td>0.01</td>\n",
       "      <td>0.01</td>\n",
       "    </tr>\n",
       "    <tr>\n",
       "      <th>1</th>\n",
       "      <td>26.0</td>\n",
       "      <td>55.0</td>\n",
       "      <td>13954745.0</td>\n",
       "      <td>1.06</td>\n",
       "      <td>24.0</td>\n",
       "      <td>1.63</td>\n",
       "      <td>63.0</td>\n",
       "      <td>10.18</td>\n",
       "      <td>38.23</td>\n",
       "      <td>34.0</td>\n",
       "      <td>...</td>\n",
       "      <td>0.58</td>\n",
       "      <td>0.16</td>\n",
       "      <td>3.68</td>\n",
       "      <td>0.00</td>\n",
       "      <td>1796555.91</td>\n",
       "      <td>11.42</td>\n",
       "      <td>0.02</td>\n",
       "      <td>0.05</td>\n",
       "      <td>0.00</td>\n",
       "      <td>0.04</td>\n",
       "    </tr>\n",
       "    <tr>\n",
       "      <th>2</th>\n",
       "      <td>151.0</td>\n",
       "      <td>158.0</td>\n",
       "      <td>9407036.0</td>\n",
       "      <td>0.20</td>\n",
       "      <td>4.0</td>\n",
       "      <td>2.82</td>\n",
       "      <td>162.0</td>\n",
       "      <td>2.14</td>\n",
       "      <td>154.69</td>\n",
       "      <td>155.0</td>\n",
       "      <td>...</td>\n",
       "      <td>0.09</td>\n",
       "      <td>0.09</td>\n",
       "      <td>1.58</td>\n",
       "      <td>0.01</td>\n",
       "      <td>31260.67</td>\n",
       "      <td>1.24</td>\n",
       "      <td>0.21</td>\n",
       "      <td>0.02</td>\n",
       "      <td>0.00</td>\n",
       "      <td>0.21</td>\n",
       "    </tr>\n",
       "    <tr>\n",
       "      <th>3</th>\n",
       "      <td>80.0</td>\n",
       "      <td>125.0</td>\n",
       "      <td>365039945.0</td>\n",
       "      <td>1.58</td>\n",
       "      <td>27.0</td>\n",
       "      <td>2.17</td>\n",
       "      <td>143.0</td>\n",
       "      <td>14.08</td>\n",
       "      <td>104.94</td>\n",
       "      <td>107.0</td>\n",
       "      <td>...</td>\n",
       "      <td>2.34</td>\n",
       "      <td>0.09</td>\n",
       "      <td>5.36</td>\n",
       "      <td>0.01</td>\n",
       "      <td>904878.45</td>\n",
       "      <td>82.61</td>\n",
       "      <td>0.00</td>\n",
       "      <td>0.41</td>\n",
       "      <td>0.01</td>\n",
       "      <td>0.01</td>\n",
       "    </tr>\n",
       "    <tr>\n",
       "      <th>4</th>\n",
       "      <td>117.0</td>\n",
       "      <td>131.0</td>\n",
       "      <td>53871253.0</td>\n",
       "      <td>1.00</td>\n",
       "      <td>9.0</td>\n",
       "      <td>2.31</td>\n",
       "      <td>137.0</td>\n",
       "      <td>4.41</td>\n",
       "      <td>124.44</td>\n",
       "      <td>125.0</td>\n",
       "      <td>...</td>\n",
       "      <td>0.70</td>\n",
       "      <td>0.24</td>\n",
       "      <td>3.82</td>\n",
       "      <td>0.01</td>\n",
       "      <td>233748.03</td>\n",
       "      <td>126.77</td>\n",
       "      <td>0.01</td>\n",
       "      <td>0.08</td>\n",
       "      <td>0.02</td>\n",
       "      <td>0.01</td>\n",
       "    </tr>\n",
       "    <tr>\n",
       "      <th>...</th>\n",
       "      <td>...</td>\n",
       "      <td>...</td>\n",
       "      <td>...</td>\n",
       "      <td>...</td>\n",
       "      <td>...</td>\n",
       "      <td>...</td>\n",
       "      <td>...</td>\n",
       "      <td>...</td>\n",
       "      <td>...</td>\n",
       "      <td>...</td>\n",
       "      <td>...</td>\n",
       "      <td>...</td>\n",
       "      <td>...</td>\n",
       "      <td>...</td>\n",
       "      <td>...</td>\n",
       "      <td>...</td>\n",
       "      <td>...</td>\n",
       "      <td>...</td>\n",
       "      <td>...</td>\n",
       "      <td>...</td>\n",
       "      <td>...</td>\n",
       "    </tr>\n",
       "    <tr>\n",
       "      <th>326</th>\n",
       "      <td>43.0</td>\n",
       "      <td>111.0</td>\n",
       "      <td>346180978.0</td>\n",
       "      <td>1.99</td>\n",
       "      <td>48.0</td>\n",
       "      <td>1.63</td>\n",
       "      <td>144.0</td>\n",
       "      <td>23.37</td>\n",
       "      <td>79.46</td>\n",
       "      <td>81.0</td>\n",
       "      <td>...</td>\n",
       "      <td>2.77</td>\n",
       "      <td>0.10</td>\n",
       "      <td>5.78</td>\n",
       "      <td>0.01</td>\n",
       "      <td>1608697.22</td>\n",
       "      <td>72.54</td>\n",
       "      <td>0.00</td>\n",
       "      <td>0.64</td>\n",
       "      <td>0.01</td>\n",
       "      <td>0.01</td>\n",
       "    </tr>\n",
       "    <tr>\n",
       "      <th>327</th>\n",
       "      <td>62.0</td>\n",
       "      <td>130.0</td>\n",
       "      <td>592814057.0</td>\n",
       "      <td>1.72</td>\n",
       "      <td>54.0</td>\n",
       "      <td>1.87</td>\n",
       "      <td>155.0</td>\n",
       "      <td>22.98</td>\n",
       "      <td>103.48</td>\n",
       "      <td>114.0</td>\n",
       "      <td>...</td>\n",
       "      <td>5.04</td>\n",
       "      <td>0.03</td>\n",
       "      <td>5.28</td>\n",
       "      <td>0.00</td>\n",
       "      <td>5159861.56</td>\n",
       "      <td>29.93</td>\n",
       "      <td>0.00</td>\n",
       "      <td>0.74</td>\n",
       "      <td>0.00</td>\n",
       "      <td>0.02</td>\n",
       "    </tr>\n",
       "    <tr>\n",
       "      <th>328</th>\n",
       "      <td>64.0</td>\n",
       "      <td>100.0</td>\n",
       "      <td>261386671.0</td>\n",
       "      <td>1.30</td>\n",
       "      <td>21.0</td>\n",
       "      <td>2.26</td>\n",
       "      <td>117.0</td>\n",
       "      <td>11.45</td>\n",
       "      <td>83.33</td>\n",
       "      <td>85.0</td>\n",
       "      <td>...</td>\n",
       "      <td>2.39</td>\n",
       "      <td>0.03</td>\n",
       "      <td>5.28</td>\n",
       "      <td>0.00</td>\n",
       "      <td>3182635.92</td>\n",
       "      <td>60.29</td>\n",
       "      <td>0.00</td>\n",
       "      <td>0.32</td>\n",
       "      <td>0.00</td>\n",
       "      <td>0.01</td>\n",
       "    </tr>\n",
       "    <tr>\n",
       "      <th>329</th>\n",
       "      <td>27.0</td>\n",
       "      <td>61.0</td>\n",
       "      <td>108584437.0</td>\n",
       "      <td>1.22</td>\n",
       "      <td>21.0</td>\n",
       "      <td>2.02</td>\n",
       "      <td>84.0</td>\n",
       "      <td>10.70</td>\n",
       "      <td>44.33</td>\n",
       "      <td>44.0</td>\n",
       "      <td>...</td>\n",
       "      <td>1.49</td>\n",
       "      <td>0.13</td>\n",
       "      <td>5.46</td>\n",
       "      <td>0.00</td>\n",
       "      <td>4316339.24</td>\n",
       "      <td>146.16</td>\n",
       "      <td>0.00</td>\n",
       "      <td>0.41</td>\n",
       "      <td>0.00</td>\n",
       "      <td>0.00</td>\n",
       "    </tr>\n",
       "    <tr>\n",
       "      <th>330</th>\n",
       "      <td>52.0</td>\n",
       "      <td>69.0</td>\n",
       "      <td>43697184.0</td>\n",
       "      <td>0.39</td>\n",
       "      <td>9.0</td>\n",
       "      <td>2.86</td>\n",
       "      <td>82.0</td>\n",
       "      <td>5.39</td>\n",
       "      <td>59.76</td>\n",
       "      <td>59.0</td>\n",
       "      <td>...</td>\n",
       "      <td>1.04</td>\n",
       "      <td>0.14</td>\n",
       "      <td>4.49</td>\n",
       "      <td>0.00</td>\n",
       "      <td>2329625.85</td>\n",
       "      <td>29.73</td>\n",
       "      <td>0.00</td>\n",
       "      <td>0.11</td>\n",
       "      <td>0.00</td>\n",
       "      <td>0.01</td>\n",
       "    </tr>\n",
       "  </tbody>\n",
       "</table>\n",
       "<p>331 rows × 93 columns</p>\n",
       "</div>"
      ],
      "text/plain": [
       "     original_firstorder_10Percentile  original_firstorder_90Percentile  \\\n",
       "0                                69.0                              82.0   \n",
       "1                                26.0                              55.0   \n",
       "2                               151.0                             158.0   \n",
       "3                                80.0                             125.0   \n",
       "4                               117.0                             131.0   \n",
       "..                                ...                               ...   \n",
       "326                              43.0                             111.0   \n",
       "327                              62.0                             130.0   \n",
       "328                              64.0                             100.0   \n",
       "329                              27.0                              61.0   \n",
       "330                              52.0                              69.0   \n",
       "\n",
       "     original_firstorder_Energy  original_firstorder_Entropy  \\\n",
       "0                    39055374.0                         0.93   \n",
       "1                    13954745.0                         1.06   \n",
       "2                     9407036.0                         0.20   \n",
       "3                   365039945.0                         1.58   \n",
       "4                    53871253.0                         1.00   \n",
       "..                          ...                          ...   \n",
       "326                 346180978.0                         1.99   \n",
       "327                 592814057.0                         1.72   \n",
       "328                 261386671.0                         1.30   \n",
       "329                 108584437.0                         1.22   \n",
       "330                  43697184.0                         0.39   \n",
       "\n",
       "     original_firstorder_InterquartileRange  original_firstorder_Kurtosis  \\\n",
       "0                                       7.0                          2.63   \n",
       "1                                      24.0                          1.63   \n",
       "2                                       4.0                          2.82   \n",
       "3                                      27.0                          2.17   \n",
       "4                                       9.0                          2.31   \n",
       "..                                      ...                           ...   \n",
       "326                                    48.0                          1.63   \n",
       "327                                    54.0                          1.87   \n",
       "328                                    21.0                          2.26   \n",
       "329                                    21.0                          2.02   \n",
       "330                                     9.0                          2.86   \n",
       "\n",
       "     original_firstorder_Maximum  original_firstorder_MeanAbsoluteDeviation  \\\n",
       "0                           89.0                                       4.06   \n",
       "1                           63.0                                      10.18   \n",
       "2                          162.0                                       2.14   \n",
       "3                          143.0                                      14.08   \n",
       "4                          137.0                                       4.41   \n",
       "..                           ...                                        ...   \n",
       "326                        144.0                                      23.37   \n",
       "327                        155.0                                      22.98   \n",
       "328                        117.0                                      11.45   \n",
       "329                         84.0                                      10.70   \n",
       "330                         82.0                                       5.39   \n",
       "\n",
       "     original_firstorder_Mean  original_firstorder_Median  ...  \\\n",
       "0                       76.07                        77.0  ...   \n",
       "1                       38.23                        34.0  ...   \n",
       "2                      154.69                       155.0  ...   \n",
       "3                      104.94                       107.0  ...   \n",
       "4                      124.44                       125.0  ...   \n",
       "..                        ...                         ...  ...   \n",
       "326                     79.46                        81.0  ...   \n",
       "327                    103.48                       114.0  ...   \n",
       "328                     83.33                        85.0  ...   \n",
       "329                     44.33                        44.0  ...   \n",
       "330                     59.76                        59.0  ...   \n",
       "\n",
       "     original_glszm_SmallAreaHighGrayLevelEmphasis  \\\n",
       "0                                             0.81   \n",
       "1                                             0.58   \n",
       "2                                             0.09   \n",
       "3                                             2.34   \n",
       "4                                             0.70   \n",
       "..                                             ...   \n",
       "326                                           2.77   \n",
       "327                                           5.04   \n",
       "328                                           2.39   \n",
       "329                                           1.49   \n",
       "330                                           1.04   \n",
       "\n",
       "     original_glszm_SmallAreaLowGrayLevelEmphasis  original_glszm_ZoneEntropy  \\\n",
       "0                                            0.25                        3.70   \n",
       "1                                            0.16                        3.68   \n",
       "2                                            0.09                        1.58   \n",
       "3                                            0.09                        5.36   \n",
       "4                                            0.24                        3.82   \n",
       "..                                            ...                         ...   \n",
       "326                                          0.10                        5.78   \n",
       "327                                          0.03                        5.28   \n",
       "328                                          0.03                        5.28   \n",
       "329                                          0.13                        5.46   \n",
       "330                                          0.14                        4.49   \n",
       "\n",
       "     original_glszm_ZonePercentage  original_glszm_ZoneVariance  \\\n",
       "0                             0.01                    645255.06   \n",
       "1                             0.00                   1796555.91   \n",
       "2                             0.01                     31260.67   \n",
       "3                             0.01                    904878.45   \n",
       "4                             0.01                    233748.03   \n",
       "..                             ...                          ...   \n",
       "326                           0.01                   1608697.22   \n",
       "327                           0.00                   5159861.56   \n",
       "328                           0.00                   3182635.92   \n",
       "329                           0.00                   4316339.24   \n",
       "330                           0.00                   2329625.85   \n",
       "\n",
       "     original_ngtdm_Busyness  original_ngtdm_Coarseness  \\\n",
       "0                     100.66                       0.01   \n",
       "1                      11.42                       0.02   \n",
       "2                       1.24                       0.21   \n",
       "3                      82.61                       0.00   \n",
       "4                     126.77                       0.01   \n",
       "..                       ...                        ...   \n",
       "326                    72.54                       0.00   \n",
       "327                    29.93                       0.00   \n",
       "328                    60.29                       0.00   \n",
       "329                   146.16                       0.00   \n",
       "330                    29.73                       0.00   \n",
       "\n",
       "     original_ngtdm_Complexity  original_ngtdm_Contrast  \\\n",
       "0                         0.06                     0.01   \n",
       "1                         0.05                     0.00   \n",
       "2                         0.02                     0.00   \n",
       "3                         0.41                     0.01   \n",
       "4                         0.08                     0.02   \n",
       "..                         ...                      ...   \n",
       "326                       0.64                     0.01   \n",
       "327                       0.74                     0.00   \n",
       "328                       0.32                     0.00   \n",
       "329                       0.41                     0.00   \n",
       "330                       0.11                     0.00   \n",
       "\n",
       "     original_ngtdm_Strength  \n",
       "0                       0.01  \n",
       "1                       0.04  \n",
       "2                       0.21  \n",
       "3                       0.01  \n",
       "4                       0.01  \n",
       "..                       ...  \n",
       "326                     0.01  \n",
       "327                     0.02  \n",
       "328                     0.01  \n",
       "329                     0.00  \n",
       "330                     0.01  \n",
       "\n",
       "[331 rows x 93 columns]"
      ]
     },
     "execution_count": 4,
     "metadata": {},
     "output_type": "execute_result"
    }
   ],
   "source": [
    "X"
   ]
  },
  {
   "cell_type": "code",
   "execution_count": 5,
   "metadata": {
    "colab": {
     "base_uri": "https://localhost:8080/"
    },
    "id": "I-258tTUPKFd",
    "outputId": "0bacf6a9-44a2-44d9-e237-b6569b7c68a2"
   },
   "outputs": [
    {
     "data": {
      "text/plain": [
       "0      0.0\n",
       "1      1.0\n",
       "2      0.0\n",
       "3      1.0\n",
       "4      0.0\n",
       "      ... \n",
       "326    1.0\n",
       "327    1.0\n",
       "328    1.0\n",
       "329    2.0\n",
       "330    2.0\n",
       "Name: Grade, Length: 331, dtype: float64"
      ]
     },
     "execution_count": 5,
     "metadata": {},
     "output_type": "execute_result"
    }
   ],
   "source": [
    "y"
   ]
  },
  {
   "cell_type": "code",
   "execution_count": 6,
   "metadata": {},
   "outputs": [
    {
     "name": "stdout",
     "output_type": "stream",
     "text": [
      "Counter({0.0: 189, 1.0: 113, 2.0: 26, 3.0: 3})\n"
     ]
    },
    {
     "data": {
      "image/png": "[encoded data removed]",
      "text/plain": [
       "<Figure size 640x480 with 1 Axes>"
      ]
     },
     "metadata": {},
     "output_type": "display_data"
    }
   ],
   "source": [
    "print(Counter(y))\n",
    "ax = sns.countplot(x=\"Grade\", data = df)\n",
    "plt.title('Grades')\n",
    "plt.ylabel('Count')\n",
    "plt.show()"
   ]
  },
  {
   "cell_type": "code",
   "execution_count": 7,
   "metadata": {
    "colab": {
     "base_uri": "https://localhost:8080/"
    },
    "id": "TJBfxujcPx6F",
    "outputId": "a77581b1-af75-4604-d586-5edf8a7b3302"
   },
   "outputs": [
    {
     "data": {
      "text/plain": [
       "(331, 93)"
      ]
     },
     "execution_count": 7,
     "metadata": {},
     "output_type": "execute_result"
    }
   ],
   "source": [
    "X.shape"
   ]
  },
  {
   "cell_type": "code",
   "execution_count": 8,
   "metadata": {
    "colab": {
     "base_uri": "https://localhost:8080/"
    },
    "id": "0inhwQyyPzXy",
    "outputId": "dfbbb926-bbc1-40e1-ccde-e7f20784f398"
   },
   "outputs": [
    {
     "data": {
      "text/plain": [
       "(331,)"
      ]
     },
     "execution_count": 8,
     "metadata": {},
     "output_type": "execute_result"
    }
   ],
   "source": [
    "y.shape"
   ]
  },
  {
   "cell_type": "code",
   "execution_count": 9,
   "metadata": {
    "id": "2ad3xisD-Qqw"
   },
   "outputs": [],
   "source": [
    "#X_train, X_test, y_train, y_test = train_test_split(X,y,test_size=0.3, random_state = 0)"
   ]
  },
  {
   "cell_type": "code",
   "execution_count": 10,
   "metadata": {
    "id": "7ETjRw4vFhHe"
   },
   "outputs": [],
   "source": [
    "oversample = SMOTE(k_neighbors = 2)\n",
    "X, y = oversample.fit_resample(X, y)"
   ]
  },
  {
   "cell_type": "code",
   "execution_count": 11,
   "metadata": {
    "colab": {
     "base_uri": "https://localhost:8080/",
     "height": 487
    },
    "id": "5qRCCRoFUTCA",
    "outputId": "a9227835-d48d-4bab-ad46-f739ba4b5556"
   },
   "outputs": [
    {
     "name": "stdout",
     "output_type": "stream",
     "text": [
      "Desempenho médio: 69.84 ± 2.54\n"
     ]
    },
    {
     "data": {
      "text/plain": [
       "0.7037037037037037"
      ]
     },
     "execution_count": 11,
     "metadata": {},
     "output_type": "execute_result"
    }
   ],
   "source": [
    "gnb=GaussianNB()\n",
    "fit = gnb.fit(X,y)\n",
    "desempenho_cross_val = cross_val_score(gnb, X, y, scoring = 'accuracy', cv = 5)\n",
    "print('Desempenho médio: {}'.format(round(100*desempenho_cross_val.mean(),2)) + ' ± '+ '{}'.format(round(100*desempenho_cross_val.std(),2)))\n",
    "gnb.score(X,y)"
   ]
  },
  {
   "cell_type": "code",
   "execution_count": 12,
   "metadata": {},
   "outputs": [
    {
     "name": "stdout",
     "output_type": "stream",
     "text": [
      "              precision    recall  f1-score   support\n",
      "\n",
      "         0.0       1.00      0.90      0.95        21\n",
      "         1.0       0.80      0.31      0.44        13\n",
      "         2.0       0.18      0.67      0.29         3\n",
      "         3.0       0.33      1.00      0.50         1\n",
      "\n",
      "    accuracy                           0.68        38\n",
      "   macro avg       0.58      0.72      0.55        38\n",
      "weighted avg       0.85      0.68      0.71        38\n",
      "\n",
      "Desempenho médio: 70.71 ± 6.93\n"
     ]
    },
    {
     "name": "stderr",
     "output_type": "stream",
     "text": [
      "c:\\Users\\marco\\AppData\\Local\\Programs\\Python\\Python39\\lib\\site-packages\\sklearn\\model_selection\\_split.py:737: UserWarning: The least populated class in y has only 1 members, which is less than n_splits=5.\n",
      "  warnings.warn(\n"
     ]
    },
    {
     "data": {
      "image/png": "[encoded data removed]",
      "text/plain": [
       "<Figure size 640x480 with 2 Axes>"
      ]
     },
     "metadata": {},
     "output_type": "display_data"
    }
   ],
   "source": [
    "dft=pd.read_csv(r'C:\\Users\\marco\\OneDrive - usp.br\\Área de Trabalho\\Mestrado\\Resultados\\B_teste.csv', engine='python',sep=';')\n",
    "Xt = dft.drop('Grade', axis =1)\n",
    "yt = dft['Grade']\n",
    "y_t = fit.predict(Xt)\n",
    "print(classification_report(yt, y_t))\n",
    "ConfusionMatrixDisplay.from_predictions(yt,y_t,values_format='.7g')\n",
    "desempenho_cross_val = cross_val_score(gnb, Xt, yt, scoring = 'accuracy', cv = 5)\n",
    "print('Desempenho médio: {}'.format(round(100*desempenho_cross_val.mean(),2)) + ' ± '+ '{}'.format(round(100*desempenho_cross_val.std(),2)))"
   ]
  },
  {
   "cell_type": "code",
   "execution_count": 13,
   "metadata": {},
   "outputs": [
    {
     "name": "stdout",
     "output_type": "stream",
     "text": [
      "Desempenho médio: 70.71 ± 6.93\n"
     ]
    },
    {
     "name": "stderr",
     "output_type": "stream",
     "text": [
      "c:\\Users\\marco\\AppData\\Local\\Programs\\Python\\Python39\\lib\\site-packages\\sklearn\\model_selection\\_split.py:737: UserWarning: The least populated class in y has only 1 members, which is less than n_splits=5.\n",
      "  warnings.warn(\n"
     ]
    },
    {
     "data": {
      "image/png": "[encoded data removed]",
      "text/plain": [
       "<Figure size 640x480 with 2 Axes>"
      ]
     },
     "metadata": {},
     "output_type": "display_data"
    }
   ],
   "source": [
    "desempenho_cross_val = cross_val_score(gnb, Xt, yt, scoring = 'accuracy', cv = 5)\n",
    "print('Desempenho médio: {}'.format(round(100*desempenho_cross_val.mean(),2)) + ' ± '+ '{}'.format(round(100*desempenho_cross_val.std(),2)))\n",
    "# Confusion matrix\n",
    "cm = confusion_matrix(yt, y_t)\n",
    "    \n",
    "    # Normalize the confusion matrix\n",
    "cm_normalized = cm.astype('float') / cm.sum(axis=1)[:, np.newaxis]\n",
    "\n",
    "    # Display the normalized confusion matrix\n",
    "disp = ConfusionMatrixDisplay(confusion_matrix=cm_normalized, display_labels=[0, 1,2,3])\n",
    "disp.plot()\n",
    "plt.show()"
   ]
  },
  {
   "cell_type": "code",
   "execution_count": 14,
   "metadata": {},
   "outputs": [
    {
     "data": {
      "image/png": "[encoded data removed]",
      "text/plain": [
       "<Figure size 800x600 with 2 Axes>"
      ]
     },
     "metadata": {},
     "output_type": "display_data"
    }
   ],
   "source": [
    "from sklearn.metrics import confusion_matrix, ConfusionMatrixDisplay\n",
    "import matplotlib.pyplot as plt\n",
    "\n",
    "# Calcular a matriz de confusão\n",
    "cm = confusion_matrix(yt, y_t, normalize='true')\n",
    "\n",
    "# Criar um heatmap\n",
    "plt.figure(figsize=(8, 6))\n",
    "plt.imshow(cm, cmap='Blues', interpolation='nearest')\n",
    "plt.title('Matriz de Confusão Normalizada')\n",
    "plt.colorbar()\n",
    "\n",
    "# Adicionar rótulos aos eixos\n",
    "class_labels = ['0','1','2','3']  # Substitua pelos seus rótulos\n",
    "# Configure o tamanho da fonte\n",
    "plt.rc('font', size=20)  # Defina o tamanho da fonte desejado\n",
    "tick_marks = np.arange(len(class_labels))\n",
    "plt.xticks(tick_marks, class_labels, rotation=45)\n",
    "plt.yticks(tick_marks, class_labels)\n",
    "\n",
    "# Adicionar os valores nas células\n",
    "for i in range(len(class_labels)):\n",
    "    for j in range(len(class_labels)):\n",
    "        plt.text(j, i, f\"{cm[i, j]:.2f}\", horizontalalignment=\"center\", color=\"#ECAEAE\")\n",
    "\n",
    "plt.tight_layout()\n",
    "plt.xlabel('Rótulos Preditos')\n",
    "plt.ylabel('Rótulos Verdadeiros')\n",
    "plt.show()"
   ]
  }
 ],
 "metadata": {
  "colab": {
   "collapsed_sections": [],
   "provenance": []
  },
  "kernelspec": {
   "display_name": "Python 3 (ipykernel)",
   "language": "python",
   "name": "python3"
  },
  "language_info": {
   "codemirror_mode": {
    "name": "ipython",
    "version": 3
   },
   "file_extension": ".py",
   "mimetype": "text/x-python",
   "name": "python",
   "nbconvert_exporter": "python",
   "pygments_lexer": "ipython3",
   "version": "3.9.13"
  },
  "vscode": {
   "interpreter": {
    "hash": "369f2c481f4da34e4445cda3fffd2e751bd1c4d706f27375911949ba6bb62e1c"
   }
  }
 },
 "nbformat": 4,
 "nbformat_minor": 1
}
