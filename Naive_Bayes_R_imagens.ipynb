{
 "cells": [
  {
   "attachments": {},
   "cell_type": "markdown",
   "metadata": {
    "id": "QGpr0CmBD8vv"
   },
   "source": [
    "https://medium.com/turing-talks/modelos-de-predi%C3%A7%C3%A3o-otimiza%C3%A7%C3%A3o-de-hiperpar%C3%A2metros-em-python-3436fc55016e"
   ]
  },
  {
   "attachments": {},
   "cell_type": "markdown",
   "metadata": {
    "id": "HyNfIZVEw0oq"
   },
   "source": [
    "Bibliotecas"
   ]
  },
  {
   "cell_type": "code",
   "execution_count": 1,
   "metadata": {
    "id": "9N2qxf0U8xDT"
   },
   "outputs": [],
   "source": [
    "import pandas as pd\n",
    "import numpy as np\n",
    "import matplotlib.pyplot as plt\n",
    "from skopt.space import Integer\n",
    "import seaborn as sns\n",
    "from imblearn.over_sampling import SMOTE\n",
    "from collections import Counter\n",
    "import plotly.express as px\n",
    "from sklearn.model_selection import cross_val_score, KFold\n",
    "from sklearn.naive_bayes import GaussianNB\n",
    "from sklearn.naive_bayes import ComplementNB\n",
    "from sklearn.model_selection import train_test_split\n",
    "from sklearn.preprocessing import StandardScaler\n",
    "from sklearn.metrics import ConfusionMatrixDisplay, confusion_matrix\n",
    "from sklearn.metrics import classification_report\n",
    "#import shap\n",
    "from sklearn.feature_selection import RFECV\n",
    "from sklearn.feature_selection import RFE\n",
    "from sklearn.svm import SVC\n",
    "from sklearn.pipeline import Pipeline\n",
    "from sklearn.feature_selection import SequentialFeatureSelector"
   ]
  },
  {
   "cell_type": "code",
   "execution_count": 2,
   "metadata": {
    "id": "ZP1hYj3F8zTO"
   },
   "outputs": [],
   "source": [
    "df = pd.read_csv(r'C:\\Users\\marco\\OneDrive - usp.br\\Área de Trabalho\\Mestrado\\Resultados/R_treino_imagens.csv', engine='python',sep=';')"
   ]
  },
  {
   "cell_type": "code",
   "execution_count": 3,
   "metadata": {
    "id": "GmJiZAUKG0fj"
   },
   "outputs": [],
   "source": [
    "X = df.drop('Grade', axis = 1)\n",
    "y = df['Grade']"
   ]
  },
  {
   "cell_type": "code",
   "execution_count": 4,
   "metadata": {
    "colab": {
     "base_uri": "https://localhost:8080/",
     "height": 505
    },
    "id": "9KH5R1atPJZb",
    "outputId": "9b7c678a-6a08-4c7e-8da5-63f8fc55a9e4"
   },
   "outputs": [
    {
     "data": {
      "text/html": [
       "<div>\n",
       "<style scoped>\n",
       "    .dataframe tbody tr th:only-of-type {\n",
       "        vertical-align: middle;\n",
       "    }\n",
       "\n",
       "    .dataframe tbody tr th {\n",
       "        vertical-align: top;\n",
       "    }\n",
       "\n",
       "    .dataframe thead th {\n",
       "        text-align: right;\n",
       "    }\n",
       "</style>\n",
       "<table border=\"1\" class=\"dataframe\">\n",
       "  <thead>\n",
       "    <tr style=\"text-align: right;\">\n",
       "      <th></th>\n",
       "      <th>original_firstorder_10Percentile</th>\n",
       "      <th>original_firstorder_90Percentile</th>\n",
       "      <th>original_firstorder_Energy</th>\n",
       "      <th>original_firstorder_Entropy</th>\n",
       "      <th>original_firstorder_InterquartileRange</th>\n",
       "      <th>original_firstorder_Kurtosis</th>\n",
       "      <th>original_firstorder_Maximum</th>\n",
       "      <th>original_firstorder_MeanAbsoluteDeviation</th>\n",
       "      <th>original_firstorder_Mean</th>\n",
       "      <th>original_firstorder_Median</th>\n",
       "      <th>...</th>\n",
       "      <th>wavelet-LLL_glszm_SmallAreaHighGrayLevelEmphasis</th>\n",
       "      <th>wavelet-LLL_glszm_SmallAreaLowGrayLevelEmphasis</th>\n",
       "      <th>wavelet-LLL_glszm_ZoneEntropy</th>\n",
       "      <th>wavelet-LLL_glszm_ZonePercentage</th>\n",
       "      <th>wavelet-LLL_glszm_ZoneVariance</th>\n",
       "      <th>wavelet-LLL_ngtdm_Busyness</th>\n",
       "      <th>wavelet-LLL_ngtdm_Coarseness</th>\n",
       "      <th>wavelet-LLL_ngtdm_Complexity</th>\n",
       "      <th>wavelet-LLL_ngtdm_Contrast</th>\n",
       "      <th>wavelet-LLL_ngtdm_Strength</th>\n",
       "    </tr>\n",
       "  </thead>\n",
       "  <tbody>\n",
       "    <tr>\n",
       "      <th>0</th>\n",
       "      <td>97.0</td>\n",
       "      <td>111.0</td>\n",
       "      <td>7.462982e+07</td>\n",
       "      <td>0.62</td>\n",
       "      <td>7.0</td>\n",
       "      <td>2.85</td>\n",
       "      <td>118.0</td>\n",
       "      <td>4.13</td>\n",
       "      <td>105.25</td>\n",
       "      <td>106.0</td>\n",
       "      <td>...</td>\n",
       "      <td>1.73</td>\n",
       "      <td>0.04</td>\n",
       "      <td>4.37</td>\n",
       "      <td>0.01</td>\n",
       "      <td>400756.72</td>\n",
       "      <td>22.32</td>\n",
       "      <td>0.00</td>\n",
       "      <td>0.55</td>\n",
       "      <td>0.01</td>\n",
       "      <td>0.02</td>\n",
       "    </tr>\n",
       "    <tr>\n",
       "      <th>1</th>\n",
       "      <td>47.0</td>\n",
       "      <td>86.0</td>\n",
       "      <td>3.694742e+07</td>\n",
       "      <td>1.45</td>\n",
       "      <td>29.0</td>\n",
       "      <td>1.74</td>\n",
       "      <td>94.0</td>\n",
       "      <td>13.09</td>\n",
       "      <td>63.23</td>\n",
       "      <td>59.0</td>\n",
       "      <td>...</td>\n",
       "      <td>4.49</td>\n",
       "      <td>0.02</td>\n",
       "      <td>4.74</td>\n",
       "      <td>0.00</td>\n",
       "      <td>321125.00</td>\n",
       "      <td>5.59</td>\n",
       "      <td>0.01</td>\n",
       "      <td>1.24</td>\n",
       "      <td>0.01</td>\n",
       "      <td>0.16</td>\n",
       "    </tr>\n",
       "    <tr>\n",
       "      <th>2</th>\n",
       "      <td>181.0</td>\n",
       "      <td>187.0</td>\n",
       "      <td>1.332229e+07</td>\n",
       "      <td>0.00</td>\n",
       "      <td>3.0</td>\n",
       "      <td>2.96</td>\n",
       "      <td>191.0</td>\n",
       "      <td>1.88</td>\n",
       "      <td>184.10</td>\n",
       "      <td>184.0</td>\n",
       "      <td>...</td>\n",
       "      <td>0.67</td>\n",
       "      <td>0.04</td>\n",
       "      <td>2.85</td>\n",
       "      <td>0.03</td>\n",
       "      <td>6851.11</td>\n",
       "      <td>82.20</td>\n",
       "      <td>0.02</td>\n",
       "      <td>0.21</td>\n",
       "      <td>0.04</td>\n",
       "      <td>0.02</td>\n",
       "    </tr>\n",
       "    <tr>\n",
       "      <th>3</th>\n",
       "      <td>118.0</td>\n",
       "      <td>169.0</td>\n",
       "      <td>7.066953e+08</td>\n",
       "      <td>1.58</td>\n",
       "      <td>34.0</td>\n",
       "      <td>1.96</td>\n",
       "      <td>183.0</td>\n",
       "      <td>17.73</td>\n",
       "      <td>146.49</td>\n",
       "      <td>152.0</td>\n",
       "      <td>...</td>\n",
       "      <td>14.94</td>\n",
       "      <td>0.01</td>\n",
       "      <td>6.89</td>\n",
       "      <td>0.01</td>\n",
       "      <td>149138.66</td>\n",
       "      <td>8.07</td>\n",
       "      <td>0.00</td>\n",
       "      <td>7.61</td>\n",
       "      <td>0.01</td>\n",
       "      <td>0.07</td>\n",
       "    </tr>\n",
       "    <tr>\n",
       "      <th>4</th>\n",
       "      <td>163.0</td>\n",
       "      <td>174.0</td>\n",
       "      <td>9.854724e+07</td>\n",
       "      <td>0.34</td>\n",
       "      <td>7.0</td>\n",
       "      <td>2.48</td>\n",
       "      <td>181.0</td>\n",
       "      <td>3.55</td>\n",
       "      <td>168.40</td>\n",
       "      <td>169.0</td>\n",
       "      <td>...</td>\n",
       "      <td>2.58</td>\n",
       "      <td>0.05</td>\n",
       "      <td>4.38</td>\n",
       "      <td>0.01</td>\n",
       "      <td>164166.94</td>\n",
       "      <td>13.59</td>\n",
       "      <td>0.01</td>\n",
       "      <td>0.66</td>\n",
       "      <td>0.00</td>\n",
       "      <td>0.04</td>\n",
       "    </tr>\n",
       "    <tr>\n",
       "      <th>...</th>\n",
       "      <td>...</td>\n",
       "      <td>...</td>\n",
       "      <td>...</td>\n",
       "      <td>...</td>\n",
       "      <td>...</td>\n",
       "      <td>...</td>\n",
       "      <td>...</td>\n",
       "      <td>...</td>\n",
       "      <td>...</td>\n",
       "      <td>...</td>\n",
       "      <td>...</td>\n",
       "      <td>...</td>\n",
       "      <td>...</td>\n",
       "      <td>...</td>\n",
       "      <td>...</td>\n",
       "      <td>...</td>\n",
       "      <td>...</td>\n",
       "      <td>...</td>\n",
       "      <td>...</td>\n",
       "      <td>...</td>\n",
       "      <td>...</td>\n",
       "    </tr>\n",
       "    <tr>\n",
       "      <th>326</th>\n",
       "      <td>71.0</td>\n",
       "      <td>150.0</td>\n",
       "      <td>7.143713e+08</td>\n",
       "      <td>2.18</td>\n",
       "      <td>51.0</td>\n",
       "      <td>1.84</td>\n",
       "      <td>178.0</td>\n",
       "      <td>24.98</td>\n",
       "      <td>116.61</td>\n",
       "      <td>122.0</td>\n",
       "      <td>...</td>\n",
       "      <td>17.71</td>\n",
       "      <td>0.01</td>\n",
       "      <td>7.48</td>\n",
       "      <td>0.01</td>\n",
       "      <td>273125.26</td>\n",
       "      <td>6.75</td>\n",
       "      <td>0.00</td>\n",
       "      <td>11.60</td>\n",
       "      <td>0.02</td>\n",
       "      <td>0.10</td>\n",
       "    </tr>\n",
       "    <tr>\n",
       "      <th>327</th>\n",
       "      <td>96.0</td>\n",
       "      <td>179.0</td>\n",
       "      <td>1.217148e+09</td>\n",
       "      <td>1.91</td>\n",
       "      <td>69.0</td>\n",
       "      <td>1.95</td>\n",
       "      <td>195.0</td>\n",
       "      <td>29.41</td>\n",
       "      <td>149.30</td>\n",
       "      <td>166.0</td>\n",
       "      <td>...</td>\n",
       "      <td>24.04</td>\n",
       "      <td>0.01</td>\n",
       "      <td>7.01</td>\n",
       "      <td>0.01</td>\n",
       "      <td>862599.65</td>\n",
       "      <td>5.75</td>\n",
       "      <td>0.00</td>\n",
       "      <td>12.61</td>\n",
       "      <td>0.02</td>\n",
       "      <td>0.15</td>\n",
       "    </tr>\n",
       "    <tr>\n",
       "      <th>328</th>\n",
       "      <td>102.0</td>\n",
       "      <td>140.0</td>\n",
       "      <td>5.739570e+08</td>\n",
       "      <td>1.28</td>\n",
       "      <td>21.0</td>\n",
       "      <td>2.70</td>\n",
       "      <td>152.0</td>\n",
       "      <td>11.66</td>\n",
       "      <td>124.33</td>\n",
       "      <td>128.0</td>\n",
       "      <td>...</td>\n",
       "      <td>9.35</td>\n",
       "      <td>0.01</td>\n",
       "      <td>6.42</td>\n",
       "      <td>0.01</td>\n",
       "      <td>607998.22</td>\n",
       "      <td>12.74</td>\n",
       "      <td>0.00</td>\n",
       "      <td>3.62</td>\n",
       "      <td>0.01</td>\n",
       "      <td>0.04</td>\n",
       "    </tr>\n",
       "    <tr>\n",
       "      <th>329</th>\n",
       "      <td>40.0</td>\n",
       "      <td>76.0</td>\n",
       "      <td>1.874607e+08</td>\n",
       "      <td>1.32</td>\n",
       "      <td>21.0</td>\n",
       "      <td>2.20</td>\n",
       "      <td>95.0</td>\n",
       "      <td>11.06</td>\n",
       "      <td>59.10</td>\n",
       "      <td>60.0</td>\n",
       "      <td>...</td>\n",
       "      <td>4.75</td>\n",
       "      <td>0.03</td>\n",
       "      <td>6.97</td>\n",
       "      <td>0.01</td>\n",
       "      <td>542701.93</td>\n",
       "      <td>48.88</td>\n",
       "      <td>0.00</td>\n",
       "      <td>3.91</td>\n",
       "      <td>0.01</td>\n",
       "      <td>0.01</td>\n",
       "    </tr>\n",
       "    <tr>\n",
       "      <th>330</th>\n",
       "      <td>80.0</td>\n",
       "      <td>104.0</td>\n",
       "      <td>1.009956e+08</td>\n",
       "      <td>0.82</td>\n",
       "      <td>14.0</td>\n",
       "      <td>2.93</td>\n",
       "      <td>123.0</td>\n",
       "      <td>7.96</td>\n",
       "      <td>90.90</td>\n",
       "      <td>89.0</td>\n",
       "      <td>...</td>\n",
       "      <td>3.51</td>\n",
       "      <td>0.04</td>\n",
       "      <td>5.77</td>\n",
       "      <td>0.01</td>\n",
       "      <td>346392.10</td>\n",
       "      <td>15.43</td>\n",
       "      <td>0.00</td>\n",
       "      <td>2.56</td>\n",
       "      <td>0.01</td>\n",
       "      <td>0.05</td>\n",
       "    </tr>\n",
       "  </tbody>\n",
       "</table>\n",
       "<p>331 rows × 1302 columns</p>\n",
       "</div>"
      ],
      "text/plain": [
       "     original_firstorder_10Percentile  original_firstorder_90Percentile  \\\n",
       "0                                97.0                             111.0   \n",
       "1                                47.0                              86.0   \n",
       "2                               181.0                             187.0   \n",
       "3                               118.0                             169.0   \n",
       "4                               163.0                             174.0   \n",
       "..                                ...                               ...   \n",
       "326                              71.0                             150.0   \n",
       "327                              96.0                             179.0   \n",
       "328                             102.0                             140.0   \n",
       "329                              40.0                              76.0   \n",
       "330                              80.0                             104.0   \n",
       "\n",
       "     original_firstorder_Energy  original_firstorder_Entropy  \\\n",
       "0                  7.462982e+07                         0.62   \n",
       "1                  3.694742e+07                         1.45   \n",
       "2                  1.332229e+07                         0.00   \n",
       "3                  7.066953e+08                         1.58   \n",
       "4                  9.854724e+07                         0.34   \n",
       "..                          ...                          ...   \n",
       "326                7.143713e+08                         2.18   \n",
       "327                1.217148e+09                         1.91   \n",
       "328                5.739570e+08                         1.28   \n",
       "329                1.874607e+08                         1.32   \n",
       "330                1.009956e+08                         0.82   \n",
       "\n",
       "     original_firstorder_InterquartileRange  original_firstorder_Kurtosis  \\\n",
       "0                                       7.0                          2.85   \n",
       "1                                      29.0                          1.74   \n",
       "2                                       3.0                          2.96   \n",
       "3                                      34.0                          1.96   \n",
       "4                                       7.0                          2.48   \n",
       "..                                      ...                           ...   \n",
       "326                                    51.0                          1.84   \n",
       "327                                    69.0                          1.95   \n",
       "328                                    21.0                          2.70   \n",
       "329                                    21.0                          2.20   \n",
       "330                                    14.0                          2.93   \n",
       "\n",
       "     original_firstorder_Maximum  original_firstorder_MeanAbsoluteDeviation  \\\n",
       "0                          118.0                                       4.13   \n",
       "1                           94.0                                      13.09   \n",
       "2                          191.0                                       1.88   \n",
       "3                          183.0                                      17.73   \n",
       "4                          181.0                                       3.55   \n",
       "..                           ...                                        ...   \n",
       "326                        178.0                                      24.98   \n",
       "327                        195.0                                      29.41   \n",
       "328                        152.0                                      11.66   \n",
       "329                         95.0                                      11.06   \n",
       "330                        123.0                                       7.96   \n",
       "\n",
       "     original_firstorder_Mean  original_firstorder_Median  ...  \\\n",
       "0                      105.25                       106.0  ...   \n",
       "1                       63.23                        59.0  ...   \n",
       "2                      184.10                       184.0  ...   \n",
       "3                      146.49                       152.0  ...   \n",
       "4                      168.40                       169.0  ...   \n",
       "..                        ...                         ...  ...   \n",
       "326                    116.61                       122.0  ...   \n",
       "327                    149.30                       166.0  ...   \n",
       "328                    124.33                       128.0  ...   \n",
       "329                     59.10                        60.0  ...   \n",
       "330                     90.90                        89.0  ...   \n",
       "\n",
       "     wavelet-LLL_glszm_SmallAreaHighGrayLevelEmphasis  \\\n",
       "0                                                1.73   \n",
       "1                                                4.49   \n",
       "2                                                0.67   \n",
       "3                                               14.94   \n",
       "4                                                2.58   \n",
       "..                                                ...   \n",
       "326                                             17.71   \n",
       "327                                             24.04   \n",
       "328                                              9.35   \n",
       "329                                              4.75   \n",
       "330                                              3.51   \n",
       "\n",
       "     wavelet-LLL_glszm_SmallAreaLowGrayLevelEmphasis  \\\n",
       "0                                               0.04   \n",
       "1                                               0.02   \n",
       "2                                               0.04   \n",
       "3                                               0.01   \n",
       "4                                               0.05   \n",
       "..                                               ...   \n",
       "326                                             0.01   \n",
       "327                                             0.01   \n",
       "328                                             0.01   \n",
       "329                                             0.03   \n",
       "330                                             0.04   \n",
       "\n",
       "     wavelet-LLL_glszm_ZoneEntropy  wavelet-LLL_glszm_ZonePercentage  \\\n",
       "0                             4.37                              0.01   \n",
       "1                             4.74                              0.00   \n",
       "2                             2.85                              0.03   \n",
       "3                             6.89                              0.01   \n",
       "4                             4.38                              0.01   \n",
       "..                             ...                               ...   \n",
       "326                           7.48                              0.01   \n",
       "327                           7.01                              0.01   \n",
       "328                           6.42                              0.01   \n",
       "329                           6.97                              0.01   \n",
       "330                           5.77                              0.01   \n",
       "\n",
       "     wavelet-LLL_glszm_ZoneVariance  wavelet-LLL_ngtdm_Busyness  \\\n",
       "0                         400756.72                       22.32   \n",
       "1                         321125.00                        5.59   \n",
       "2                           6851.11                       82.20   \n",
       "3                         149138.66                        8.07   \n",
       "4                         164166.94                       13.59   \n",
       "..                              ...                         ...   \n",
       "326                       273125.26                        6.75   \n",
       "327                       862599.65                        5.75   \n",
       "328                       607998.22                       12.74   \n",
       "329                       542701.93                       48.88   \n",
       "330                       346392.10                       15.43   \n",
       "\n",
       "     wavelet-LLL_ngtdm_Coarseness  wavelet-LLL_ngtdm_Complexity  \\\n",
       "0                            0.00                          0.55   \n",
       "1                            0.01                          1.24   \n",
       "2                            0.02                          0.21   \n",
       "3                            0.00                          7.61   \n",
       "4                            0.01                          0.66   \n",
       "..                            ...                           ...   \n",
       "326                          0.00                         11.60   \n",
       "327                          0.00                         12.61   \n",
       "328                          0.00                          3.62   \n",
       "329                          0.00                          3.91   \n",
       "330                          0.00                          2.56   \n",
       "\n",
       "     wavelet-LLL_ngtdm_Contrast  wavelet-LLL_ngtdm_Strength  \n",
       "0                          0.01                        0.02  \n",
       "1                          0.01                        0.16  \n",
       "2                          0.04                        0.02  \n",
       "3                          0.01                        0.07  \n",
       "4                          0.00                        0.04  \n",
       "..                          ...                         ...  \n",
       "326                        0.02                        0.10  \n",
       "327                        0.02                        0.15  \n",
       "328                        0.01                        0.04  \n",
       "329                        0.01                        0.01  \n",
       "330                        0.01                        0.05  \n",
       "\n",
       "[331 rows x 1302 columns]"
      ]
     },
     "execution_count": 4,
     "metadata": {},
     "output_type": "execute_result"
    }
   ],
   "source": [
    "X"
   ]
  },
  {
   "cell_type": "code",
   "execution_count": 5,
   "metadata": {
    "colab": {
     "base_uri": "https://localhost:8080/"
    },
    "id": "I-258tTUPKFd",
    "outputId": "0bacf6a9-44a2-44d9-e237-b6569b7c68a2"
   },
   "outputs": [
    {
     "data": {
      "text/plain": [
       "0      0.0\n",
       "1      1.0\n",
       "2      0.0\n",
       "3      1.0\n",
       "4      0.0\n",
       "      ... \n",
       "326    1.0\n",
       "327    1.0\n",
       "328    1.0\n",
       "329    2.0\n",
       "330    2.0\n",
       "Name: Grade, Length: 331, dtype: float64"
      ]
     },
     "execution_count": 5,
     "metadata": {},
     "output_type": "execute_result"
    }
   ],
   "source": [
    "y"
   ]
  },
  {
   "cell_type": "code",
   "execution_count": 6,
   "metadata": {
    "colab": {
     "base_uri": "https://localhost:8080/"
    },
    "id": "TJBfxujcPx6F",
    "outputId": "a77581b1-af75-4604-d586-5edf8a7b3302"
   },
   "outputs": [
    {
     "data": {
      "text/plain": [
       "(331, 1302)"
      ]
     },
     "execution_count": 6,
     "metadata": {},
     "output_type": "execute_result"
    }
   ],
   "source": [
    "X.shape"
   ]
  },
  {
   "cell_type": "code",
   "execution_count": 7,
   "metadata": {
    "colab": {
     "base_uri": "https://localhost:8080/"
    },
    "id": "0inhwQyyPzXy",
    "outputId": "dfbbb926-bbc1-40e1-ccde-e7f20784f398"
   },
   "outputs": [
    {
     "data": {
      "text/plain": [
       "(331,)"
      ]
     },
     "execution_count": 7,
     "metadata": {},
     "output_type": "execute_result"
    }
   ],
   "source": [
    "y.shape"
   ]
  },
  {
   "cell_type": "code",
   "execution_count": 8,
   "metadata": {
    "id": "2ad3xisD-Qqw"
   },
   "outputs": [],
   "source": [
    "#X_train, X_test, y_train, y_test = train_test_split(X,y,test_size=0.3, random_state = 0)"
   ]
  },
  {
   "cell_type": "code",
   "execution_count": 9,
   "metadata": {
    "id": "7ETjRw4vFhHe"
   },
   "outputs": [],
   "source": [
    "oversample = SMOTE(k_neighbors = 2)\n",
    "X, y = oversample.fit_resample(X, y)"
   ]
  },
  {
   "cell_type": "code",
   "execution_count": 10,
   "metadata": {
    "colab": {
     "base_uri": "https://localhost:8080/",
     "height": 487
    },
    "id": "5qRCCRoFUTCA",
    "outputId": "a9227835-d48d-4bab-ad46-f739ba4b5556"
   },
   "outputs": [
    {
     "name": "stdout",
     "output_type": "stream",
     "text": [
      "Desempenho médio: 77.51 ± 3.18\n"
     ]
    },
    {
     "data": {
      "text/plain": [
       "0.7817460317460317"
      ]
     },
     "execution_count": 10,
     "metadata": {},
     "output_type": "execute_result"
    }
   ],
   "source": [
    "gnb=GaussianNB()\n",
    "fit = gnb.fit(X,y)\n",
    "desempenho_cross_val = cross_val_score(gnb, X, y, scoring = 'accuracy', cv = 5)\n",
    "print('Desempenho médio: {}'.format(round(100*desempenho_cross_val.mean(),2)) + ' ± '+ '{}'.format(round(100*desempenho_cross_val.std(),2)))\n",
    "gnb.score(X,y)"
   ]
  },
  {
   "cell_type": "code",
   "execution_count": 11,
   "metadata": {},
   "outputs": [
    {
     "name": "stdout",
     "output_type": "stream",
     "text": [
      "              precision    recall  f1-score   support\n",
      "\n",
      "         0.0       0.95      0.95      0.95        21\n",
      "         1.0       0.86      0.46      0.60        13\n",
      "         2.0       0.22      0.67      0.33         3\n",
      "         3.0       0.00      0.00      0.00         1\n",
      "\n",
      "    accuracy                           0.74        38\n",
      "   macro avg       0.51      0.52      0.47        38\n",
      "weighted avg       0.84      0.74      0.76        38\n",
      "\n",
      "Desempenho médio: 89.64 ± 9.48\n",
      "Desempenho médio: 89.64 ± 9.48\n"
     ]
    },
    {
     "name": "stderr",
     "output_type": "stream",
     "text": [
      "c:\\Users\\marco\\AppData\\Local\\Programs\\Python\\Python39\\lib\\site-packages\\sklearn\\model_selection\\_split.py:737: UserWarning: The least populated class in y has only 1 members, which is less than n_splits=5.\n",
      "  warnings.warn(\n",
      "c:\\Users\\marco\\AppData\\Local\\Programs\\Python\\Python39\\lib\\site-packages\\sklearn\\model_selection\\_split.py:737: UserWarning: The least populated class in y has only 1 members, which is less than n_splits=5.\n",
      "  warnings.warn(\n"
     ]
    },
    {
     "data": {
      "image/png": "[encoded data removed]",
      "text/plain": [
       "<Figure size 640x480 with 2 Axes>"
      ]
     },
     "metadata": {},
     "output_type": "display_data"
    }
   ],
   "source": [
    "dft=pd.read_csv(r'C:\\Users\\marco\\OneDrive - usp.br\\Área de Trabalho\\Mestrado\\Resultados/R_teste_imagens.csv', engine='python',sep=';')\n",
    "Xt = dft.drop('Grade', axis =1)\n",
    "yt = dft['Grade']\n",
    "y_t = fit.predict(Xt)\n",
    "print(classification_report(yt, y_t))\n",
    "\n",
    "desempenho_cross_val = cross_val_score(gnb, Xt, yt, scoring = 'accuracy', cv = 5)\n",
    "print('Desempenho médio: {}'.format(round(100*desempenho_cross_val.mean(),2)) + ' ± '+ '{}'.format(round(100*desempenho_cross_val.std(),2)))\n",
    "\n",
    "desempenho_cross_val = cross_val_score(gnb, Xt, yt, scoring = 'accuracy', cv = 5)\n",
    "print('Desempenho médio: {}'.format(round(100*desempenho_cross_val.mean(),2)) + ' ± '+ '{}'.format(round(100*desempenho_cross_val.std(),2)))\n",
    "# Confusion matrix\n",
    "cm = confusion_matrix(yt, y_t)\n",
    "    \n",
    "    # Normalize the confusion matrix\n",
    "cm_normalized = cm.astype('float') / cm.sum(axis=1)[:, np.newaxis]\n",
    "\n",
    "    # Display the normalized confusion matrix\n",
    "disp = ConfusionMatrixDisplay(confusion_matrix=cm_normalized, display_labels=[0, 1,2,3])\n",
    "disp.plot()\n",
    "plt.show()"
   ]
  },
  {
   "cell_type": "code",
   "execution_count": 12,
   "metadata": {},
   "outputs": [
    {
     "data": {
      "image/png": "[encoded data removed]",
      "text/plain": [
       "<Figure size 800x600 with 2 Axes>"
      ]
     },
     "metadata": {},
     "output_type": "display_data"
    }
   ],
   "source": [
    "from sklearn.metrics import confusion_matrix, ConfusionMatrixDisplay\n",
    "import matplotlib.pyplot as plt\n",
    "\n",
    "# Calcular a matriz de confusão\n",
    "cm = confusion_matrix(yt, y_t, normalize='true')\n",
    "\n",
    "# Criar um heatmap\n",
    "plt.figure(figsize=(8, 6))\n",
    "plt.imshow(cm, cmap='Blues', interpolation='nearest')\n",
    "plt.title('Matriz de Confusão Normalizada')\n",
    "plt.colorbar()\n",
    "\n",
    "# Adicionar rótulos aos eixos\n",
    "class_labels = ['0','1','2','3']  # Substitua pelos seus rótulos\n",
    "# Configure o tamanho da fonte\n",
    "plt.rc('font', size=20)  # Defina o tamanho da fonte desejado\n",
    "tick_marks = np.arange(len(class_labels))\n",
    "plt.xticks(tick_marks, class_labels, rotation=45)\n",
    "plt.yticks(tick_marks, class_labels)\n",
    "\n",
    "# Adicionar os valores nas células\n",
    "for i in range(len(class_labels)):\n",
    "    for j in range(len(class_labels)):\n",
    "        plt.text(j, i, f\"{cm[i, j]:.2f}\", horizontalalignment=\"center\", color=\"#ECAEAE\")\n",
    "\n",
    "plt.tight_layout()\n",
    "plt.xlabel('Rótulos Preditos')\n",
    "plt.ylabel('Rótulos Verdadeiros')\n",
    "plt.show()"
   ]
  }
 ],
 "metadata": {
  "colab": {
   "collapsed_sections": [],
   "provenance": []
  },
  "kernelspec": {
   "display_name": "Python 3 (ipykernel)",
   "language": "python",
   "name": "python3"
  },
  "language_info": {
   "codemirror_mode": {
    "name": "ipython",
    "version": 3
   },
   "file_extension": ".py",
   "mimetype": "text/x-python",
   "name": "python",
   "nbconvert_exporter": "python",
   "pygments_lexer": "ipython3",
   "version": "3.9.13"
  },
  "vscode": {
   "interpreter": {
    "hash": "369f2c481f4da34e4445cda3fffd2e751bd1c4d706f27375911949ba6bb62e1c"
   }
  }
 },
 "nbformat": 4,
 "nbformat_minor": 1
}
